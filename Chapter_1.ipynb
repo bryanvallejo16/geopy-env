{
 "cells": [
  {
   "cell_type": "code",
   "execution_count": null,
   "id": "517bb84a",
   "metadata": {},
   "outputs": [],
   "source": [
    "#Intro\n",
    "# **Title**\n",
    "\n",
    "#    “How close is your nearest bike station? An accessibility analysis\n",
    "#    with shortest path algorithm using OSM walking network in Helsinki\n",
    "#    region, Finland”\n",
    "\n",
    "#    **Description**\n",
    "\n",
    "#    Finding the shortest walking path between all residential buildings\n",
    "#    and bike stations. This analysis includes a chart showing which areas\n",
    "#    are less accessible (long walking distance to bike stations)"
   ]
  },
  {
   "cell_type": "code",
   "execution_count": null,
   "id": "aa5cf6ac",
   "metadata": {},
   "outputs": [],
   "source": [
    "import pandas as pd\n",
    "import geopandas as gpd\n",
    "from shapely.geometry import LineString, Point\n",
    "import osmnx as ox\n",
    "import networkx as nx\n",
    "import matplotlib.pyplot as plt"
   ]
  }
 ],
 "metadata": {
  "kernelspec": {
   "display_name": "Python 3 (ipykernel)",
   "language": "python",
   "name": "python3"
  },
  "language_info": {
   "codemirror_mode": {
    "name": "ipython",
    "version": 3
   },
   "file_extension": ".py",
   "mimetype": "text/x-python",
   "name": "python",
   "nbconvert_exporter": "python",
   "pygments_lexer": "ipython3",
   "version": "3.8.12"
  }
 },
 "nbformat": 4,
 "nbformat_minor": 5
}
